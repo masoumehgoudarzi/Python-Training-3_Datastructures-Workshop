{
  "cells": [
    {
      "cell_type": "markdown",
      "source": [
        "#**Python Workshop (3) - Data Structures**\n",
        "All authorized workshop material cannot be redistributed without the prior consent of the instructors."
      ],
      "metadata": {
        "id": "CVCzxx0qh-z5"
      }
    },
    {
      "cell_type": "markdown",
      "metadata": {
        "id": "AfcAbGf6AM7A"
      },
      "source": [
        "# 1. Lists:\n",
        "Lists are a collection of iterable, mutable and ordered data. They can contain duplicate data."
      ]
    },
    {
      "cell_type": "code",
      "execution_count": null,
      "metadata": {
        "id": "L2OgLD9VAM7G",
        "colab": {
          "base_uri": "https://localhost:8080/"
        },
        "outputId": "81baca1b-8d7b-4372-bf0c-ec00f6d3a406"
      },
      "outputs": [
        {
          "output_type": "execute_result",
          "data": {
            "text/plain": [
              "[1, 4, 9, 16, 25]"
            ]
          },
          "metadata": {},
          "execution_count": 2
        }
      ],
      "source": [
        "squares = [1, 4, 9, 16, 25]\n",
        "\n",
        "squares[0]  # indexing returns the item\n",
        "squares[-1]\n",
        "squares[-3:]  # slicing returns a new list\n",
        "\n",
        "# a shallow-copy of the list\n",
        "squares[:]\n",
        "\n",
        "#"
      ]
    },
    {
      "cell_type": "markdown",
      "source": [
        "To explain the difference of shallow, deep and invalid list copy\n"
      ],
      "metadata": {
        "id": "afZPZG-WrDke"
      }
    },
    {
      "cell_type": "code",
      "source": [
        "squares = [1, 4, 9, 16, 25]\n",
        "s=squares + [36, 49, 64, 81, 100]\n",
        "print(s)\n",
        "\n",
        "# replace some values\n",
        "squares[2:5] = ['C', 'D', 'E']\n",
        "print(squares)\n",
        "\n",
        "# now remove them\n",
        "squares[2:5] = []\n",
        "squares\n",
        "\n",
        "# clear the list by replacing all the elements with an empty list\n",
        "squares[:] = []\n",
        "squares\n",
        "\n"
      ],
      "metadata": {
        "id": "S3ZZQFlDp98y",
        "colab": {
          "base_uri": "https://localhost:8080/"
        },
        "outputId": "5703055a-4631-491c-a9de-5bb504110225"
      },
      "execution_count": null,
      "outputs": [
        {
          "output_type": "stream",
          "name": "stdout",
          "text": [
            "[1, 4, 9, 16, 25, 36, 49, 64, 81, 100]\n",
            "[1, 4, 'C', 'D', 'E']\n",
            "b\n"
          ]
        }
      ]
    },
    {
      "cell_type": "markdown",
      "source": [
        "Nested lists"
      ],
      "metadata": {
        "id": "gsRc6uZSiXCX"
      }
    },
    {
      "cell_type": "code",
      "source": [
        "a = ['a', 'b', 'c']\n",
        "n = [1, 2, 3]\n",
        "x = [a, n] # or [['a', 'b', 'c'],n]\n",
        "y = [1, 2, 'a', \"hi\", 4., 1+2j,]\n",
        "print(x[0][1])"
      ],
      "metadata": {
        "colab": {
          "base_uri": "https://localhost:8080/"
        },
        "id": "k0LPne-3xaLQ",
        "outputId": "07ca1d36-ec1e-4eb7-d018-1be5e7b1ac7c"
      },
      "execution_count": null,
      "outputs": [
        {
          "output_type": "stream",
          "name": "stdout",
          "text": [
            "b\n"
          ]
        }
      ]
    },
    {
      "cell_type": "markdown",
      "metadata": {
        "id": "G5TuWAq5AM7J"
      },
      "source": [
        "## 2. Commonly used list object methods"
      ]
    },
    {
      "cell_type": "markdown",
      "source": [
        "2.1. Append: Inserting an element to the end of list"
      ],
      "metadata": {
        "id": "53j_tb33ifz9"
      }
    },
    {
      "cell_type": "code",
      "execution_count": null,
      "metadata": {
        "id": "UbTEh0uHAM7K",
        "outputId": "114de929-a8c7-4cf4-8dee-fb73760c78e7",
        "colab": {
          "base_uri": "https://localhost:8080/"
        }
      },
      "outputs": [
        {
          "output_type": "stream",
          "name": "stdout",
          "text": [
            "[8, 4, 6, 'a', 'hi', 4.0, (1+2j), -2, -9.0, 2]\n"
          ]
        }
      ],
      "source": [
        "a = [8, 4, 6, 'a', \"hi\", 4., 1+2j, -2, -9.]\n",
        "a.append(2)                       # inserting an element to the end of list\n",
        "print(a)\n"
      ]
    },
    {
      "cell_type": "markdown",
      "source": [
        "2.2. Extend: extend() method appends the elements of an iterable (e.g., a list, tuple, or string) to the end of the list."
      ],
      "metadata": {
        "id": "K6mgFn4zi6EV"
      }
    },
    {
      "cell_type": "code",
      "source": [
        "a = [8, 4, 6, 'a', \"hi\", 4., 1+2j, -2, -9.]\n",
        "b = [\"name1\", \"name2\", \"name3\"]\n",
        "a.extend(b)                         # modification is done in place\n",
        "print(a)\n"
      ],
      "metadata": {
        "colab": {
          "base_uri": "https://localhost:8080/"
        },
        "id": "YZm_z7srurZk",
        "outputId": "8d8d838c-65ec-4f54-aced-448838496d41"
      },
      "execution_count": null,
      "outputs": [
        {
          "output_type": "stream",
          "name": "stdout",
          "text": [
            "[8, 4, 6, 'a', 'hi', 4.0, (1+2j), -2, -9.0, 'name1', 'name2', 'name3']\n"
          ]
        }
      ]
    },
    {
      "cell_type": "markdown",
      "source": [
        "2.3. Insert: The insert() method is used to insert an element at a specific position in the list. In this case, the code a.insert(0, \"hi\") inserts the string \"hi\" at the beginning of the list a, that is, at index 0."
      ],
      "metadata": {
        "id": "k5qphzqcjULW"
      }
    },
    {
      "cell_type": "code",
      "source": [
        "a.insert(0, \"hi\")\n",
        "print(a)"
      ],
      "metadata": {
        "colab": {
          "base_uri": "https://localhost:8080/"
        },
        "id": "9DCTocgSyCIK",
        "outputId": "89985ae2-c424-432f-bd4d-23aa934928b3"
      },
      "execution_count": null,
      "outputs": [
        {
          "output_type": "stream",
          "name": "stdout",
          "text": [
            "['hi', 'hi', 'hi', 4, 6, 'a', 'hi', 4.0, (1+2j), -2, -9.0, 'name1', 'name2', 'name3']\n"
          ]
        }
      ]
    },
    {
      "cell_type": "markdown",
      "source": [
        "2.4. Remove: removing the first occurrence of a value"
      ],
      "metadata": {
        "id": "OX9-ABRdjiJH"
      }
    },
    {
      "cell_type": "code",
      "source": [
        "a.remove('hi')                           # removing the first occurrence of a value\n",
        "print(a)\n"
      ],
      "metadata": {
        "colab": {
          "base_uri": "https://localhost:8080/"
        },
        "id": "Z6li8a1Fuv-V",
        "outputId": "e1f8c268-7bb8-43f9-ca7c-398c73054e4c"
      },
      "execution_count": null,
      "outputs": [
        {
          "output_type": "stream",
          "name": "stdout",
          "text": [
            "['hi', 'hi', 4, 6, 'hi', 4.0, (1+2j), -2, -9.0, 'name1', 'name2', 'name3']\n"
          ]
        }
      ]
    },
    {
      "cell_type": "markdown",
      "source": [
        "2.5. Count: to count the number of occurrences of a particular element in the list."
      ],
      "metadata": {
        "id": "2EU8BBEajxem"
      }
    },
    {
      "cell_type": "code",
      "source": [
        "a.count('hi')\n"
      ],
      "metadata": {
        "colab": {
          "base_uri": "https://localhost:8080/"
        },
        "id": "rswvbvuhylZk",
        "outputId": "49cae86f-8ca5-4798-a0be-79945517663b"
      },
      "execution_count": null,
      "outputs": [
        {
          "output_type": "execute_result",
          "data": {
            "text/plain": [
              "1"
            ]
          },
          "metadata": {},
          "execution_count": 22
        }
      ]
    },
    {
      "cell_type": "markdown",
      "source": [
        "2.6. Copy: To create a shallow copy of a list. The new list returned by copy() is a new object with the same elements as the original list, but modifying one list will not affect the other"
      ],
      "metadata": {
        "id": "KQno2DNsj26z"
      }
    },
    {
      "cell_type": "code",
      "source": [
        "b= a.copy()\n",
        "b"
      ],
      "metadata": {
        "colab": {
          "base_uri": "https://localhost:8080/"
        },
        "id": "-ApRO0rEy2MZ",
        "outputId": "d40b3a85-773e-422b-d1d2-235e8ce92bb7"
      },
      "execution_count": null,
      "outputs": [
        {
          "output_type": "execute_result",
          "data": {
            "text/plain": [
              "[8, 4, 6, 'a', 'hi', 4.0, (1+2j), -2, -9.0, 'name1', 'name2', 'name3']"
            ]
          },
          "metadata": {},
          "execution_count": 23
        }
      ]
    },
    {
      "cell_type": "markdown",
      "source": [
        "2.7.  Clear: To remove all elements from a list."
      ],
      "metadata": {
        "id": "byPXnbIVkSwr"
      }
    },
    {
      "cell_type": "code",
      "source": [
        "a.clear()\n",
        "a"
      ],
      "metadata": {
        "id": "lX1Xwo3cy0tJ"
      },
      "execution_count": null,
      "outputs": []
    },
    {
      "cell_type": "markdown",
      "source": [
        "Exercise:\n",
        "count the number of apple, tangerine.\n",
        "\n",
        "```\n",
        "fruits = ['orange', 'apple', 'pear', 'banana', 'kiwi', 'apple', 'banana']\n",
        "```\n",
        "\n"
      ],
      "metadata": {
        "id": "e2zIOgY9kdqH"
      }
    },
    {
      "cell_type": "code",
      "source": [
        "#code here:"
      ],
      "metadata": {
        "colab": {
          "base_uri": "https://localhost:8080/"
        },
        "id": "fPaPjeHvu3Ml",
        "outputId": "8336cffc-c41d-4c14-98a8-81922a086893"
      },
      "execution_count": null,
      "outputs": [
        {
          "output_type": "execute_result",
          "data": {
            "text/plain": [
              "3"
            ]
          },
          "metadata": {},
          "execution_count": 28
        }
      ]
    },
    {
      "cell_type": "markdown",
      "source": [
        "2.8. Index: the positions of items in the list. Don't forget in Python, the first index is always 0."
      ],
      "metadata": {
        "id": "pVPE-JSslDx5"
      }
    },
    {
      "cell_type": "code",
      "source": [
        "fruits.index('banana', 4)  # Find next banana starting at position 4"
      ],
      "metadata": {
        "colab": {
          "base_uri": "https://localhost:8080/"
        },
        "id": "lkWDFtj8zKNi",
        "outputId": "94cb6d95-e934-44ef-826d-6e71e0622566"
      },
      "execution_count": null,
      "outputs": [
        {
          "output_type": "execute_result",
          "data": {
            "text/plain": [
              "6"
            ]
          },
          "metadata": {},
          "execution_count": 29
        }
      ]
    },
    {
      "cell_type": "markdown",
      "source": [
        "2.9. Reverse: to reverse the order of elements in a list."
      ],
      "metadata": {
        "id": "hto15p7clV4-"
      }
    },
    {
      "cell_type": "code",
      "source": [
        "fruits.reverse()\n",
        "fruits\n"
      ],
      "metadata": {
        "colab": {
          "base_uri": "https://localhost:8080/"
        },
        "id": "uP6JjJBGu7VE",
        "outputId": "3354104e-626e-4489-821a-e4cd769fd1e0"
      },
      "execution_count": null,
      "outputs": [
        {
          "output_type": "execute_result",
          "data": {
            "text/plain": [
              "['banana', 'apple', 'kiwi', 'banana', 'pear', 'apple', 'orange']"
            ]
          },
          "metadata": {},
          "execution_count": 26
        }
      ]
    },
    {
      "cell_type": "markdown",
      "source": [
        "**3. List as queue**"
      ],
      "metadata": {
        "id": "DN_qHZmDzXSU"
      }
    },
    {
      "cell_type": "code",
      "source": [
        "from collections import deque\n",
        "queue = deque([\"Eric\", \"John\", \"Michael\"])\n",
        "queue.append(\"Terry\")           # Terry arrives\n",
        "queue.append(\"Graham\")          # Graham arrives\n",
        "queue.popleft()                 # The first to arrive now leaves\n",
        "\n",
        "queue.popleft()                 # The second to arrive now leaves\n",
        "\n",
        "queue                           # Remaining queue in order of arrival\n"
      ],
      "metadata": {
        "colab": {
          "base_uri": "https://localhost:8080/"
        },
        "id": "YYcyEkbovFGA",
        "outputId": "6b32b726-8a39-48a0-c4ec-ae0e055b5baf"
      },
      "execution_count": null,
      "outputs": [
        {
          "output_type": "execute_result",
          "data": {
            "text/plain": [
              "deque(['Michael', 'Terry', 'Graham'])"
            ]
          },
          "metadata": {},
          "execution_count": 30
        }
      ]
    },
    {
      "cell_type": "markdown",
      "source": [
        "**In this step we need to explain looping to iterate the list!**"
      ],
      "metadata": {
        "id": "Mf31qDwBbAd0"
      }
    },
    {
      "cell_type": "markdown",
      "source": [],
      "metadata": {
        "id": "w6HiTiMSbZAx"
      }
    },
    {
      "cell_type": "markdown",
      "source": [
        "#4. List comprehension\n",
        "A list comprehension is a concise way to create a new list in Python. It consists of square brackets containing an expression, followed by one or more for clauses, and optionally one or more if clauses.\n",
        "\n",
        "The for clause(s) specify one or more iterators over which to loop, and the expression is evaluated once for each combination of the values of the iterators. The if clause(s) are used to filter the values based on a condition.\n",
        "\n",
        "The result of the list comprehension is a new list object that is created by evaluating the expression for each combination of the values of the iterators that satisfy any if conditions."
      ],
      "metadata": {
        "id": "_8kv_hqM23XX"
      }
    },
    {
      "cell_type": "code",
      "source": [
        "# list comprehensions\n",
        "squares = []\n",
        "for x in range(10):\n",
        "    squares.append(x**2)\n",
        "print(squares)\n"
      ],
      "metadata": {
        "id": "aHJzwrLDvJUY",
        "colab": {
          "base_uri": "https://localhost:8080/"
        },
        "outputId": "c9fc8109-ee9c-4f38-bab9-7d93596797b4"
      },
      "execution_count": null,
      "outputs": [
        {
          "output_type": "stream",
          "name": "stdout",
          "text": [
            "[0, 1, 4, 9, 16, 25, 36, 49, 64, 81]\n"
          ]
        }
      ]
    },
    {
      "cell_type": "code",
      "source": [
        "# question? Can I use x.upper()?\n",
        "\n",
        "squares = [x.upper() for x in range(10)]\n",
        "\n",
        "squares = list(map(lambda x: x**2, range(10)))"
      ],
      "metadata": {
        "id": "ksFaF_Ymm5iI"
      },
      "execution_count": null,
      "outputs": []
    },
    {
      "cell_type": "code",
      "source": [
        "[(x, y) for x in [1,2,3] for y in [3,1,4] if x != y]"
      ],
      "metadata": {
        "colab": {
          "base_uri": "https://localhost:8080/"
        },
        "id": "e8sxYXt73k6j",
        "outputId": "4c4a39d8-f574-4bf7-de4b-43a71dc02d2a"
      },
      "execution_count": null,
      "outputs": [
        {
          "output_type": "execute_result",
          "data": {
            "text/plain": [
              "[(1, 3), (1, 4), (2, 3), (2, 1), (2, 4), (3, 1), (3, 4)]"
            ]
          },
          "metadata": {},
          "execution_count": 34
        }
      ]
    },
    {
      "cell_type": "markdown",
      "source": [
        "4.1. Nested list comprehensions\n"
      ],
      "metadata": {
        "id": "SyKsYt_znJDk"
      }
    },
    {
      "cell_type": "code",
      "source": [
        "# nested list comprehensions\n",
        "matrix = [\n",
        "    [1, 2, 3, 4],\n",
        "    [5, 6, 7, 8],\n",
        "    [9, 10, 11, 12],\n",
        "]\n",
        "[[row[i] for row in matrix] for i in range(4)]\n"
      ],
      "metadata": {
        "colab": {
          "base_uri": "https://localhost:8080/"
        },
        "id": "GUt2Or_HvYEo",
        "outputId": "476d082b-c3a5-45f1-e293-68ac2f44d192"
      },
      "execution_count": null,
      "outputs": [
        {
          "output_type": "execute_result",
          "data": {
            "text/plain": [
              "[[1, 5, 9], [2, 6, 10], [3, 7, 11], [4, 8, 12]]"
            ]
          },
          "metadata": {},
          "execution_count": 36
        }
      ]
    },
    {
      "cell_type": "markdown",
      "source": [
        "**4.2. Transpose a matrix represented as a list of tuples**\n",
        "\n",
        "Note that the * operator is used to unpack the elements of matrix as arguments to zip(), which is equivalent to calling zip(matrix[0], matrix[1], matrix[2]) in this case. The * operator is sometimes referred to as the \"splat\" operator, and it is used to unpack iterable objects such as lists, tuples, and sets into separate function arguments."
      ],
      "metadata": {
        "id": "LiV-js8j9Tml"
      }
    },
    {
      "cell_type": "code",
      "source": [
        "list(zip(*matrix)) # zip conver to tuples"
      ],
      "metadata": {
        "colab": {
          "base_uri": "https://localhost:8080/"
        },
        "id": "QF6ij7Hq8-jf",
        "outputId": "80cfcad0-a77f-4330-8e2b-a57f7befee16"
      },
      "execution_count": null,
      "outputs": [
        {
          "output_type": "execute_result",
          "data": {
            "text/plain": [
              "[(1, 5, 9), (2, 6, 10), (3, 7, 11), (4, 8, 12)]"
            ]
          },
          "metadata": {},
          "execution_count": 40
        }
      ]
    },
    {
      "cell_type": "code",
      "source": [
        "transposed = []\n",
        "for i in range(4):\n",
        "    transposed.append([row[i] for row in matrix])\n",
        "\n",
        "transposed"
      ],
      "metadata": {
        "id": "pfQA6kdG7fDG"
      },
      "execution_count": null,
      "outputs": []
    },
    {
      "cell_type": "markdown",
      "source": [
        "Another way to transpose:"
      ],
      "metadata": {
        "id": "jwElhvSNn77o"
      }
    },
    {
      "cell_type": "code",
      "source": [
        "transposed = []\n",
        "for i in range(4):\n",
        "    # the following 3 lines implement the nested listcomp\n",
        "    transposed_row = []\n",
        "    for row in matrix:\n",
        "        transposed_row.append(row[i])\n",
        "    transposed.append(transposed_row)\n",
        "\n",
        "transposed"
      ],
      "metadata": {
        "id": "wqHvRY-Tn5YY"
      },
      "execution_count": null,
      "outputs": []
    },
    {
      "cell_type": "markdown",
      "source": [
        "4.3. Training on list comprehensions\n"
      ],
      "metadata": {
        "id": "nozxtaZToIER"
      }
    },
    {
      "cell_type": "code",
      "source": [
        "vec = [-4, -2, 0, 2, 4]\n",
        "# create a new list with the values doubled\n",
        "[x*2 for x in vec]\n",
        "\n"
      ],
      "metadata": {
        "id": "mWlUsLsfvhoW"
      },
      "execution_count": null,
      "outputs": []
    },
    {
      "cell_type": "markdown",
      "source": [
        "4.4. Filter the list to exclude negative numbers\n"
      ],
      "metadata": {
        "id": "yBXi2C2doNnK"
      }
    },
    {
      "cell_type": "code",
      "source": [
        "[x for x in vec if x >= 0]\n",
        "\n",
        "# apply a function to all the elements\n",
        "[abs(x) for x in vec]\n"
      ],
      "metadata": {
        "id": "vOJdi7Ku-grH"
      },
      "execution_count": null,
      "outputs": []
    },
    {
      "cell_type": "markdown",
      "source": [
        "4.5. Call a method on each element\n"
      ],
      "metadata": {
        "id": "_9aGv_9coTJO"
      }
    },
    {
      "cell_type": "code",
      "source": [
        "freshfruit = ['  banana', '  loganberry ', 'passion fruit  ']\n",
        "[weapon.strip() for weapon in freshfruit]\n",
        "\n"
      ],
      "metadata": {
        "colab": {
          "base_uri": "https://localhost:8080/"
        },
        "id": "vbzPUlvA-e1d",
        "outputId": "28220871-a23b-48f5-f4ae-f1ff6a5acd11"
      },
      "execution_count": null,
      "outputs": [
        {
          "output_type": "execute_result",
          "data": {
            "text/plain": [
              "['banana', 'loganberry', 'passion fruit']"
            ]
          },
          "metadata": {},
          "execution_count": 41
        }
      ]
    },
    {
      "cell_type": "markdown",
      "source": [
        "4.6. Create a list of 2-tuples like (number, square)\n"
      ],
      "metadata": {
        "id": "xXIKb1qZoWzY"
      }
    },
    {
      "cell_type": "code",
      "source": [
        "[(x, x**2) for x in range(6)]"
      ],
      "metadata": {
        "colab": {
          "base_uri": "https://localhost:8080/"
        },
        "id": "iwJ2JsyC-pZt",
        "outputId": "a4faa715-d9e2-406b-c7ee-d8067fa090f6"
      },
      "execution_count": null,
      "outputs": [
        {
          "output_type": "execute_result",
          "data": {
            "text/plain": [
              "[(0, 0), (1, 1), (2, 4), (3, 9), (4, 16), (5, 25)]"
            ]
          },
          "metadata": {},
          "execution_count": 42
        }
      ]
    },
    {
      "cell_type": "code",
      "source": [
        "#Q???? why this code give error?"
      ],
      "metadata": {
        "id": "LKX13TuDDSjP"
      },
      "execution_count": null,
      "outputs": []
    },
    {
      "cell_type": "code",
      "source": [
        "# the tuple must be parenthesized, otherwise an error is raised\n",
        "[x, x**2 for x in range(6)]\n",
        "#   File \"<stdin>\", line 1\n",
        "    # [x, x**2 for x in range(6)]\n",
        "    #  ^^^^^^^"
      ],
      "metadata": {
        "colab": {
          "base_uri": "https://localhost:8080/",
          "height": 134
        },
        "id": "crFQtqLs-jMp",
        "outputId": "1d7425fd-76ff-4717-e00c-6382afcfe9a7"
      },
      "execution_count": null,
      "outputs": [
        {
          "output_type": "error",
          "ename": "SyntaxError",
          "evalue": "ignored",
          "traceback": [
            "\u001b[0;36m  File \u001b[0;32m\"<ipython-input-43-fb90ff6a7292>\"\u001b[0;36m, line \u001b[0;32m2\u001b[0m\n\u001b[0;31m    [x, x**2 for x in range(6)]\u001b[0m\n\u001b[0m             ^\u001b[0m\n\u001b[0;31mSyntaxError\u001b[0m\u001b[0;31m:\u001b[0m invalid syntax\n"
          ]
        }
      ]
    },
    {
      "cell_type": "code",
      "source": [
        "# SyntaxError: did you forget parentheses around the comprehension target?\n",
        "# flatten a list using a listcomp with two 'for'\n",
        "vec = [[1,2,3], [4,5,6], [7,8,9]]\n",
        "[num for elem in vec for num in elem]"
      ],
      "metadata": {
        "colab": {
          "base_uri": "https://localhost:8080/"
        },
        "id": "5QUG4qfLDQXy",
        "outputId": "af0b53be-2a83-4ae3-c9ab-78ca417a193a"
      },
      "execution_count": null,
      "outputs": [
        {
          "output_type": "execute_result",
          "data": {
            "text/plain": [
              "[1, 2, 3, 4, 5, 6, 7, 8, 9]"
            ]
          },
          "metadata": {},
          "execution_count": 44
        }
      ]
    },
    {
      "cell_type": "markdown",
      "metadata": {
        "id": "hfPJtW8SAM7M"
      },
      "source": [
        "# 5. Tuples and Sequences"
      ]
    },
    {
      "cell_type": "markdown",
      "source": [
        "Tuples are similar to lists. But has a main difference. This collection also has iterable, ordered, and (can contain) repetitive data, just like lists.\n",
        "But unlike lists, tuples are immutable."
      ],
      "metadata": {
        "id": "QaiiYiCWD1fE"
      }
    },
    {
      "cell_type": "code",
      "execution_count": null,
      "metadata": {
        "id": "uxScJUJkAM7N",
        "outputId": "03fbee89-22c1-419f-fbd3-67a62a999289",
        "colab": {
          "base_uri": "https://localhost:8080/"
        }
      },
      "outputs": [
        {
          "output_type": "stream",
          "name": "stdout",
          "text": [
            "(12345, 54321, 'hello!') <class 'tuple'>\n"
          ]
        }
      ],
      "source": [
        "t = 12345, 54321, 'hello!'\n",
        "t[0]\n",
        "\n",
        "print(t, type(t))\n"
      ]
    },
    {
      "cell_type": "code",
      "source": [
        "# q??\n",
        "type(t)"
      ],
      "metadata": {
        "colab": {
          "base_uri": "https://localhost:8080/"
        },
        "id": "zGn115__EZ8I",
        "outputId": "2817874a-3155-473e-82dd-45b8e6379c79"
      },
      "execution_count": null,
      "outputs": [
        {
          "output_type": "execute_result",
          "data": {
            "text/plain": [
              "tuple"
            ]
          },
          "metadata": {},
          "execution_count": 46
        }
      ]
    },
    {
      "cell_type": "markdown",
      "source": [
        "5.1. Nested tuples"
      ],
      "metadata": {
        "id": "ZZHOo2mxot4x"
      }
    },
    {
      "cell_type": "code",
      "source": [
        "# Tuples may be nested:\n",
        "u = t, (1, 2, 3, 4, 5)\n",
        "u\n"
      ],
      "metadata": {
        "colab": {
          "base_uri": "https://localhost:8080/"
        },
        "id": "vf6NuuLzDkOM",
        "outputId": "398e98a5-b87e-4728-f6a7-bde0cc8aabdf"
      },
      "execution_count": null,
      "outputs": [
        {
          "output_type": "execute_result",
          "data": {
            "text/plain": [
              "((12345, 54321, 'hello!'), (1, 2, 3, 4, 5))"
            ]
          },
          "metadata": {},
          "execution_count": 54
        }
      ]
    },
    {
      "cell_type": "code",
      "source": [
        "#Q???\n",
        "#Tuples are immutable:\n",
        "t[0] = 88888\n"
      ],
      "metadata": {
        "colab": {
          "base_uri": "https://localhost:8080/",
          "height": 241
        },
        "id": "yieyKCGGEmPu",
        "outputId": "8296b6ca-e986-4817-90a3-722c4ed2dd60"
      },
      "execution_count": null,
      "outputs": [
        {
          "output_type": "error",
          "ename": "TypeError",
          "evalue": "ignored",
          "traceback": [
            "\u001b[0;31m---------------------------------------------------------------------------\u001b[0m",
            "\u001b[0;31mTypeError\u001b[0m                                 Traceback (most recent call last)",
            "\u001b[0;32m<ipython-input-48-9f5e7e5a4db9>\u001b[0m in \u001b[0;36m<module>\u001b[0;34m\u001b[0m\n\u001b[1;32m      1\u001b[0m \u001b[0;31m#Q???\u001b[0m\u001b[0;34m\u001b[0m\u001b[0;34m\u001b[0m\u001b[0m\n\u001b[1;32m      2\u001b[0m \u001b[0;31m#Tuples are immutable:\u001b[0m\u001b[0;34m\u001b[0m\u001b[0;34m\u001b[0m\u001b[0m\n\u001b[0;32m----> 3\u001b[0;31m \u001b[0mt\u001b[0m\u001b[0;34m[\u001b[0m\u001b[0;36m0\u001b[0m\u001b[0;34m]\u001b[0m \u001b[0;34m=\u001b[0m \u001b[0;36m88888\u001b[0m\u001b[0;34m\u001b[0m\u001b[0;34m\u001b[0m\u001b[0m\n\u001b[0m\u001b[1;32m      4\u001b[0m \u001b[0;34m\u001b[0m\u001b[0m\n\u001b[1;32m      5\u001b[0m \u001b[0;34m\u001b[0m\u001b[0m\n",
            "\u001b[0;31mTypeError\u001b[0m: 'tuple' object does not support item assignment"
          ]
        }
      ]
    },
    {
      "cell_type": "code",
      "source": [
        "# but they can contain mutable objects:\n",
        "v = ([1, 2, 3], [3, 2, 1])\n",
        "v\n",
        "v[0][1] = 5\n",
        "print(v)\n"
      ],
      "metadata": {
        "colab": {
          "base_uri": "https://localhost:8080/"
        },
        "id": "R337T3eNEokf",
        "outputId": "ec688705-2412-42f3-e52b-6f2703f085a4"
      },
      "execution_count": null,
      "outputs": [
        {
          "output_type": "stream",
          "name": "stdout",
          "text": [
            "([1, 5, 3], [3, 2, 1])\n"
          ]
        }
      ]
    },
    {
      "cell_type": "code",
      "source": [
        "empty = ()\n",
        "singleton = 'hello',    # <-- note trailing comma\n",
        "len(empty)\n",
        "\n",
        "print(len(singleton))\n",
        "\n",
        "singleton\n"
      ],
      "metadata": {
        "colab": {
          "base_uri": "https://localhost:8080/"
        },
        "id": "vPRLwo3UE0z6",
        "outputId": "0e4b9595-8a75-4613-a3f6-f12e6a176b90"
      },
      "execution_count": null,
      "outputs": [
        {
          "output_type": "stream",
          "name": "stdout",
          "text": [
            "1\n"
          ]
        },
        {
          "output_type": "execute_result",
          "data": {
            "text/plain": [
              "('hello',)"
            ]
          },
          "metadata": {},
          "execution_count": 55
        }
      ]
    },
    {
      "cell_type": "markdown",
      "source": [
        "5.2. Tuple is actually an immutable sequence type"
      ],
      "metadata": {
        "id": "T22ld3MHFjqz"
      }
    },
    {
      "cell_type": "code",
      "source": [
        "a = [1, 2, 3, 5., 6.2, 3 + 2j]\n",
        "b = [\"Hey\", 2, \"3\", 4.]\n",
        "c = \"OK howdy\"\n",
        "\n",
        "print(tuple(a), tuple(b), tuple(c))\n",
        "\n"
      ],
      "metadata": {
        "colab": {
          "base_uri": "https://localhost:8080/"
        },
        "id": "Lxo0Mq7UE7Vs",
        "outputId": "0a3b4a9f-7371-4f4d-a08c-7281a077be34"
      },
      "execution_count": null,
      "outputs": [
        {
          "output_type": "stream",
          "name": "stdout",
          "text": [
            "(1, 2, 3, 5.0, 6.2, (3+2j)) ('Hey', 2, '3', 4.0) ('O', 'K', ' ', 'h', 'o', 'w', 'd', 'y')\n"
          ]
        }
      ]
    },
    {
      "cell_type": "markdown",
      "metadata": {
        "id": "KtJ_NzNgAM7N"
      },
      "source": [
        "# 6. sets"
      ]
    },
    {
      "cell_type": "markdown",
      "metadata": {
        "id": "oXP-6sBOAM7O"
      },
      "source": [
        "A set is iterable , an unordered collection with no duplicate elements. Basic uses include membership testing and eliminating duplicate entries."
      ]
    },
    {
      "cell_type": "code",
      "source": [
        "#q??? diference between set and tupple and list"
      ],
      "metadata": {
        "id": "mxAWTN5NFzta"
      },
      "execution_count": null,
      "outputs": []
    },
    {
      "cell_type": "code",
      "execution_count": null,
      "metadata": {
        "id": "AYo93NmiAM7P",
        "colab": {
          "base_uri": "https://localhost:8080/"
        },
        "outputId": "fb7db387-a6a6-488c-f06f-be7eb72f45be"
      },
      "outputs": [
        {
          "output_type": "stream",
          "name": "stdout",
          "text": [
            "{'banana', 'apple', 'pear', 'orange'}\n"
          ]
        }
      ],
      "source": [
        "basket = {'apple', 'orange', 'apple', 'pear', 'orange', 'banana'}\n",
        "print(basket)                      # show that duplicates have been removed\n"
      ]
    },
    {
      "cell_type": "code",
      "source": [
        "#q???\n",
        "basket[1] # isn't  indexing"
      ],
      "metadata": {
        "colab": {
          "base_uri": "https://localhost:8080/",
          "height": 169
        },
        "id": "ecLKGvFXGBKG",
        "outputId": "bd19d7e1-51b2-4bc8-fb8f-0e52addd8a78"
      },
      "execution_count": null,
      "outputs": [
        {
          "output_type": "error",
          "ename": "TypeError",
          "evalue": "ignored",
          "traceback": [
            "\u001b[0;31m---------------------------------------------------------------------------\u001b[0m",
            "\u001b[0;31mTypeError\u001b[0m                                 Traceback (most recent call last)",
            "\u001b[0;32m<ipython-input-59-b034c74c3c8f>\u001b[0m in \u001b[0;36m<module>\u001b[0;34m\u001b[0m\n\u001b[0;32m----> 1\u001b[0;31m \u001b[0mbasket\u001b[0m\u001b[0;34m[\u001b[0m\u001b[0;36m1\u001b[0m\u001b[0;34m]\u001b[0m\u001b[0;34m\u001b[0m\u001b[0;34m\u001b[0m\u001b[0m\n\u001b[0m",
            "\u001b[0;31mTypeError\u001b[0m: 'set' object is not subscriptable"
          ]
        }
      ]
    },
    {
      "cell_type": "markdown",
      "source": [
        "6.1. Fast membership testing"
      ],
      "metadata": {
        "id": "R_tlVk1GpLFJ"
      }
    },
    {
      "cell_type": "code",
      "source": [
        "'orange' in basket                 # fast membership testing\n",
        "\n",
        "'crabgrass' in basket\n"
      ],
      "metadata": {
        "colab": {
          "base_uri": "https://localhost:8080/"
        },
        "id": "HSsfPwAfFxNZ",
        "outputId": "0d6c10d5-e57e-4783-a680-14a1b32f9729"
      },
      "execution_count": null,
      "outputs": [
        {
          "output_type": "execute_result",
          "data": {
            "text/plain": [
              "False"
            ]
          },
          "metadata": {},
          "execution_count": 62
        }
      ]
    },
    {
      "cell_type": "code",
      "source": [
        "# Demonstrate set operations on unique letters from two words\n",
        "\n",
        "a = set('abracadabra')\n",
        "b = set('alacazam')\n",
        "a,b                                 # unique letters in a\n"
      ],
      "metadata": {
        "colab": {
          "base_uri": "https://localhost:8080/"
        },
        "id": "gbedgxkIIy2_",
        "outputId": "7e97fac6-0cc0-47c9-ffa9-38ee2ea514a9"
      },
      "execution_count": null,
      "outputs": [
        {
          "output_type": "execute_result",
          "data": {
            "text/plain": [
              "({'a', 'b', 'c', 'd', 'r'}, {'a', 'c', 'l', 'm', 'z'})"
            ]
          },
          "metadata": {},
          "execution_count": 69
        }
      ]
    },
    {
      "cell_type": "code",
      "source": [
        "a - b                              # letters in a but not in b\n",
        "\n",
        "a | b                              # letters in a or b or both\n",
        "\n",
        "a & b                              # letters in both a and b\n",
        "\n",
        "a ^ b                              # xor -->letters in a or b but not both\n",
        "\n"
      ],
      "metadata": {
        "colab": {
          "base_uri": "https://localhost:8080/"
        },
        "id": "QR3PY9vHInXd",
        "outputId": "932ce0e4-3fef-4e71-d6a5-8496d47a0b29"
      },
      "execution_count": null,
      "outputs": [
        {
          "output_type": "execute_result",
          "data": {
            "text/plain": [
              "{'b', 'd', 'l', 'm', 'r', 'z'}"
            ]
          },
          "metadata": {},
          "execution_count": 70
        }
      ]
    },
    {
      "cell_type": "markdown",
      "source": [
        "6.3. Set comprehensions\n"
      ],
      "metadata": {
        "id": "Vt1zuNoLpSzj"
      }
    },
    {
      "cell_type": "code",
      "source": [
        "# set comprehensions\n",
        "a = {x for x in 'abracadabra' if x not in 'abc'}\n",
        "a"
      ],
      "metadata": {
        "colab": {
          "base_uri": "https://localhost:8080/"
        },
        "id": "J7ghdgrBJ62X",
        "outputId": "33af42b9-6a7d-4177-9ec8-137f1c852ca3"
      },
      "execution_count": null,
      "outputs": [
        {
          "output_type": "execute_result",
          "data": {
            "text/plain": [
              "{'d', 'r'}"
            ]
          },
          "metadata": {},
          "execution_count": 72
        }
      ]
    },
    {
      "cell_type": "markdown",
      "metadata": {
        "id": "nlV12kkcAM7P"
      },
      "source": [
        "# 7. Dictionaries"
      ]
    },
    {
      "cell_type": "markdown",
      "source": [
        "A dictionary is a collection of key-value pairs, where each key is associated with a value. Dictionaries are also known as associative arrays, maps, or hash tables in other programming languages.\n",
        "\n",
        "In Python, dictionaries are defined using curly braces {} and key-value pairs separated by a colon ':'"
      ],
      "metadata": {
        "id": "k42LbwcdNH9p"
      }
    },
    {
      "cell_type": "code",
      "execution_count": null,
      "metadata": {
        "id": "-ZG6mvmhAM7Q",
        "outputId": "b3dd66cf-508b-4c39-9634-7bdc176d5210",
        "colab": {
          "base_uri": "https://localhost:8080/"
        }
      },
      "outputs": [
        {
          "output_type": "execute_result",
          "data": {
            "text/plain": [
              "{'name': 'masy', 'phone': 4139856}"
            ]
          },
          "metadata": {},
          "execution_count": 83
        }
      ],
      "source": [
        "tel = {'name': 'masy', 'phone': 4139856}\n",
        "#q??? application? when we ptefer use this kind of data structure?\n",
        "tel\n"
      ]
    },
    {
      "cell_type": "markdown",
      "source": [
        "7.1. Example of application of dict in list and tuple:\n",
        "\n",
        "We can store only the value and we can't have any information of the kind of value\n"
      ],
      "metadata": {
        "id": "JIQsCuTcOcLI"
      }
    },
    {
      "cell_type": "code",
      "source": [
        "l=[25,26,59,21,36]\n",
        "#nested dictionary\n",
        "#nested {key:[]} {key:{key:{}}} [{key:[]}],{key:{}},{}] list / dic\n",
        "\n",
        "school={'courses':{'python':{'scores':{'zahra':18,'mahdi':19,'ali':20,'sajad':20},\n",
        "                             'classes':['Monday','thursday'],\n",
        "                             'time':'11:30'},\n",
        "                    'js':{'scores':{'zahra':18,'mahdi':19,'ali':20,'sajad':20},\n",
        "                         'classes':['Monday','thursday'],\n",
        "                         'time':'11:30'}}}"
      ],
      "metadata": {
        "id": "dyeIVKC-OO5r"
      },
      "execution_count": null,
      "outputs": []
    },
    {
      "cell_type": "markdown",
      "source": [
        "7.2. Accessing the dictionary values using keys as index\n"
      ],
      "metadata": {
        "id": "dACKEOVOPgpA"
      }
    },
    {
      "cell_type": "code",
      "source": [
        "d = {'name': 'masy', 'phone': 4139856}\n",
        "print(d['name'])\n",
        "\n",
        "# in list index is used to access to element\n",
        "l=[25,26,59,21,36]\n",
        "\n",
        "# changing the value of the key\n",
        "d['name'] = 4127\n",
        "d[\"name\"] = [4127, 8292, 9212]\n",
        "print(d)"
      ],
      "metadata": {
        "colab": {
          "base_uri": "https://localhost:8080/"
        },
        "id": "SuzhTmCIKa0M",
        "outputId": "7f14cf19-5c8f-4c28-a7ed-6ac81b7fb9b6"
      },
      "execution_count": null,
      "outputs": [
        {
          "output_type": "stream",
          "name": "stdout",
          "text": [
            "masy\n",
            "{'name': [4127, 8292, 9212], 'phone': 4139856}\n"
          ]
        }
      ]
    },
    {
      "cell_type": "code",
      "source": [
        "#q????\n",
        "\n",
        "d[\"name\"][0]"
      ],
      "metadata": {
        "colab": {
          "base_uri": "https://localhost:8080/"
        },
        "id": "M0LVHujmRegT",
        "outputId": "8aee2ba6-e98e-4b60-866a-286b49c58c0f"
      },
      "execution_count": null,
      "outputs": [
        {
          "output_type": "execute_result",
          "data": {
            "text/plain": [
              "4127"
            ]
          },
          "metadata": {},
          "execution_count": 94
        }
      ]
    },
    {
      "cell_type": "markdown",
      "source": [
        "7.3. But if the key doesn't exist in the dict, append it."
      ],
      "metadata": {
        "id": "ojnkzr-yRFCU"
      }
    },
    {
      "cell_type": "code",
      "source": [
        "d[\"hi\"] = 0\n",
        "print(d)"
      ],
      "metadata": {
        "colab": {
          "base_uri": "https://localhost:8080/"
        },
        "id": "Yxqu_7UpRDbW",
        "outputId": "0307cb0a-1937-4818-9ef5-d79666444c34"
      },
      "execution_count": null,
      "outputs": [
        {
          "output_type": "stream",
          "name": "stdout",
          "text": [
            "{'name': [4127, 8292, 9212], 'phone': 4139856, 'hi': 0}\n"
          ]
        }
      ]
    },
    {
      "cell_type": "markdown",
      "source": [
        "7.4. Removing a key value pair from the dictionary"
      ],
      "metadata": {
        "id": "zffAvk22qhVn"
      }
    },
    {
      "cell_type": "code",
      "source": [
        "# removing a key value pair from the dictionary\n",
        "del d['phone']\n",
        "print(d)\n",
        "\n"
      ],
      "metadata": {
        "id": "M9jzxCBHKflS"
      },
      "execution_count": null,
      "outputs": []
    },
    {
      "cell_type": "markdown",
      "source": [
        "7.5. Nested dictionaries\n"
      ],
      "metadata": {
        "id": "sufg8_vMqms5"
      }
    },
    {
      "cell_type": "code",
      "source": [
        "# nested dictionaries:\n",
        "d[\"emergency\"] = {\"local_dep\" : 111, \"remote_dep\" : 222}\n",
        "print(d)\n",
        "print(d[\"emergency\"][\"local_dep\"])\n"
      ],
      "metadata": {
        "colab": {
          "base_uri": "https://localhost:8080/"
        },
        "id": "M3QbQlR6KiZf",
        "outputId": "ef161cba-3180-413a-8bb0-70cf2325b929"
      },
      "execution_count": null,
      "outputs": [
        {
          "output_type": "stream",
          "name": "stdout",
          "text": [
            "{'name': [4127, 8292, 9212], 'phone': 4139856, 'hi': 0, 'emergency': {'local_dep': 111, 'remote_dep': 222}}\n",
            "111\n"
          ]
        }
      ]
    },
    {
      "cell_type": "code",
      "source": [
        "list(d)"
      ],
      "metadata": {
        "colab": {
          "base_uri": "https://localhost:8080/"
        },
        "id": "ON5r5SRgKlWO",
        "outputId": "ea255698-e045-493f-91c9-cd57a95a73c0"
      },
      "execution_count": null,
      "outputs": [
        {
          "output_type": "execute_result",
          "data": {
            "text/plain": [
              "['emergency', 'hi', 'name', 'phone']"
            ]
          },
          "metadata": {},
          "execution_count": 90
        }
      ]
    },
    {
      "cell_type": "markdown",
      "source": [
        "7.6. Sort base on **keys** every operation do by **key**"
      ],
      "metadata": {
        "id": "RE4s2NQlSNwG"
      }
    },
    {
      "cell_type": "code",
      "source": [
        "sorted(d), 'name' in d\n"
      ],
      "metadata": {
        "colab": {
          "base_uri": "https://localhost:8080/"
        },
        "id": "nOkqUxPUR8LP",
        "outputId": "951151af-d8e8-41a1-9a95-2705af019d29"
      },
      "execution_count": null,
      "outputs": [
        {
          "output_type": "execute_result",
          "data": {
            "text/plain": [
              "(['emergency', 'hi', 'name', 'phone'], True)"
            ]
          },
          "metadata": {},
          "execution_count": 98
        }
      ]
    },
    {
      "cell_type": "markdown",
      "source": [
        "7.7. Convert some tuples to dictionary"
      ],
      "metadata": {
        "id": "YO8R9y8HUSVt"
      }
    },
    {
      "cell_type": "code",
      "source": [
        "dict([('sape', 4139), ('guido', 4127), ('jack', 4098)])\n"
      ],
      "metadata": {
        "colab": {
          "base_uri": "https://localhost:8080/"
        },
        "id": "MTRoVd1iSiaG",
        "outputId": "2d99dcac-f690-42e3-f723-65fd5a2c550f"
      },
      "execution_count": null,
      "outputs": [
        {
          "output_type": "execute_result",
          "data": {
            "text/plain": [
              "{'sape': 4139, 'guido': 4127, 'jack': 4098}"
            ]
          },
          "metadata": {},
          "execution_count": 99
        }
      ]
    },
    {
      "cell_type": "markdown",
      "source": [
        "7.8. Dictionary Comprehension"
      ],
      "metadata": {
        "id": "2sbnUY5_Ugj2"
      }
    },
    {
      "cell_type": "code",
      "source": [
        "{x: x**2 for x in (2, 4, 6)}"
      ],
      "metadata": {
        "colab": {
          "base_uri": "https://localhost:8080/"
        },
        "id": "8HMCQN18TPq6",
        "outputId": "b2055abf-48aa-40c0-b715-d12eaf637211"
      },
      "execution_count": null,
      "outputs": [
        {
          "output_type": "execute_result",
          "data": {
            "text/plain": [
              "{2: 4, 4: 16, 6: 36}"
            ]
          },
          "metadata": {},
          "execution_count": 103
        }
      ]
    },
    {
      "cell_type": "code",
      "source": [
        "dict(sape=4139, guido=4127, jack=4098)"
      ],
      "metadata": {
        "id": "z7o7k5o_TTmR"
      },
      "execution_count": null,
      "outputs": []
    },
    {
      "cell_type": "markdown",
      "metadata": {
        "id": "B-8bYXVCAM7Q"
      },
      "source": [
        "7.9. *For* loop in dictionary objects"
      ]
    },
    {
      "cell_type": "code",
      "execution_count": null,
      "metadata": {
        "id": "e-_uYzYRAM7R",
        "outputId": "b6ddf0c5-e08e-4f01-fc48-9fd02343c643",
        "colab": {
          "base_uri": "https://localhost:8080/"
        }
      },
      "outputs": [
        {
          "output_type": "stream",
          "name": "stdout",
          "text": [
            "name has value of: masy\n",
            "phone has value of: 4139856\n"
          ]
        }
      ],
      "source": [
        "for a, b in tel.items():\n",
        "    print(f\"{a} has value of: {b}\")\n",
        "\n",
        "\n",
        "# for i in tel.keys():\n",
        "    # print(i)\n",
        "\n",
        "# for j in tel.values():\n",
        "    # print(j)\n",
        "\n",
        "\n",
        ""
      ]
    },
    {
      "cell_type": "code",
      "source": [
        "for i in sorted(tel.keys()):\n",
        "    print(i.upper())\n"
      ],
      "metadata": {
        "colab": {
          "base_uri": "https://localhost:8080/"
        },
        "id": "oc4lyL9qTfQa",
        "outputId": "229ab1cd-24b4-4ff1-cd28-c926879ce889"
      },
      "execution_count": null,
      "outputs": [
        {
          "output_type": "stream",
          "name": "stdout",
          "text": [
            "NAME\n",
            "PHONE\n",
            "{2: 'one', 6: 'three', 9: 'seven'}\n"
          ]
        }
      ]
    },
    {
      "cell_type": "markdown",
      "source": [
        "7.10: Changing the key and value in dict"
      ],
      "metadata": {
        "id": "aoP1YrdRVIrt"
      }
    },
    {
      "cell_type": "code",
      "source": [
        "a = {\"one\" : 2, \"three\" : 6, \"seven\" : 9}\n",
        "\n",
        "b = {}\n",
        "for k, v in a.items():\n",
        "  b[v] = k\n",
        "print(b)"
      ],
      "metadata": {
        "colab": {
          "base_uri": "https://localhost:8080/"
        },
        "id": "NhWi6OSvVFhb",
        "outputId": "42fa5a96-0721-440e-d53f-89c81bce3e9f"
      },
      "execution_count": null,
      "outputs": [
        {
          "output_type": "stream",
          "name": "stdout",
          "text": [
            "{2: 'one', 6: 'three', 9: 'seven'}\n"
          ]
        }
      ]
    }
  ],
  "metadata": {
    "kernelspec": {
      "display_name": "Python 3",
      "language": "python",
      "name": "python3"
    },
    "language_info": {
      "codemirror_mode": {
        "name": "ipython",
        "version": 3
      },
      "file_extension": ".py",
      "mimetype": "text/x-python",
      "name": "python",
      "nbconvert_exporter": "python",
      "pygments_lexer": "ipython3",
      "version": "3.11.2"
    },
    "orig_nbformat": 4,
    "colab": {
      "provenance": []
    }
  },
  "nbformat": 4,
  "nbformat_minor": 0
}
